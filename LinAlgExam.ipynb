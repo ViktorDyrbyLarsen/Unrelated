{
 "cells": [
  {
   "cell_type": "code",
   "execution_count": 68,
   "id": "9d60a225",
   "metadata": {},
   "outputs": [],
   "source": [
    "from sympy import *\n",
    "init_printing()"
   ]
  },
  {
   "cell_type": "markdown",
   "id": "62798c05",
   "metadata": {},
   "source": [
    "**OBS: Der var problemer med at konvertere notebooken til PDF. Den er derfor fremvist i skærmbilleder**\n",
    "\n",
    "Opg 1)\n",
    "\n",
    "(i) Det ses, at $dim(A) = 2\\text{x}4$. Vi har derfor $dim(Q) = 4\\text{x}4$ og $dim(R) = 4\\text{x}2$ (Theorem 1. i QR factorisation noten)"
   ]
  },
  {
   "cell_type": "markdown",
   "id": "f3537e1f",
   "metadata": {},
   "source": [
    "(ii) Der anvendes først Gram Schmidt på de lineært uafhængige kollonne vektore til A (her de første to).\n",
    "\n",
    "Der checkes først om de reelt er lineært uafhængige"
   ]
  },
  {
   "cell_type": "code",
   "execution_count": 205,
   "id": "176e80a6",
   "metadata": {},
   "outputs": [
    {
     "data": {
      "text/latex": [
       "$\\displaystyle \\left[\\begin{matrix}3 & -1 & 1 & 3\\\\4 & 7 & 2 & 4\\end{matrix}\\right]$"
      ],
      "text/plain": [
       "⎡3  -1  1  3⎤\n",
       "⎢           ⎥\n",
       "⎣4  7   2  4⎦"
      ]
     },
     "metadata": {},
     "output_type": "display_data"
    }
   ],
   "source": [
    "A = Matrix(2,4,[3,-1,1,3,4,7,2,4])\n",
    "display(A)"
   ]
  },
  {
   "cell_type": "code",
   "execution_count": 48,
   "id": "df36d458",
   "metadata": {},
   "outputs": [
    {
     "data": {
      "text/plain": [
       "(Matrix([\n",
       " [1, 0],\n",
       " [0, 1]]),\n",
       " (0, 1))"
      ]
     },
     "execution_count": 48,
     "metadata": {},
     "output_type": "execute_result"
    }
   ],
   "source": [
    "A[:,:2].rref()"
   ]
  },
  {
   "cell_type": "markdown",
   "id": "0ae2b08c",
   "metadata": {},
   "source": [
    "Alså har vi $r = 2$, og der udføres nu gram-schmidt på vektorene. Her defineres det sædvanlige indre produkt også."
   ]
  },
  {
   "cell_type": "code",
   "execution_count": 199,
   "id": "a7c23f4a",
   "metadata": {},
   "outputs": [],
   "source": [
    "def inner(v,w):\n",
    "    return (w.H*v)[0]"
   ]
  },
  {
   "cell_type": "code",
   "execution_count": 206,
   "id": "858ae5c6",
   "metadata": {},
   "outputs": [
    {
     "data": {
      "text/latex": [
       "$\\displaystyle \\left( \\left[\\begin{matrix}\\frac{3}{5}\\\\\\frac{4}{5}\\end{matrix}\\right], \\  \\left[\\begin{matrix}- \\frac{4}{5}\\\\\\frac{3}{5}\\end{matrix}\\right]\\right)$"
      ],
      "text/plain": [
       "⎛⎡3/5⎤  ⎡-4/5⎤⎞\n",
       "⎜⎢   ⎥, ⎢    ⎥⎟\n",
       "⎝⎣4/5⎦  ⎣3/5 ⎦⎠"
      ]
     },
     "execution_count": 206,
     "metadata": {},
     "output_type": "execute_result"
    }
   ],
   "source": [
    "a1, a2, a3, a4 = (A[:,0], A[:,1], A[:,2], A[:,3])\n",
    "v1 = a1 / a1.norm()\n",
    "v2 = a2 - inner(a2,v1)*v1\n",
    "v2 = v2 / v2.norm()\n",
    "v1,v2"
   ]
  },
  {
   "cell_type": "markdown",
   "id": "0dc7e919",
   "metadata": {},
   "source": [
    "Basen udvides nu til at spanne $\\mathbb{R}^4$ ved at udføre gram schmidt på lineært uafhængige vektorere."
   ]
  },
  {
   "cell_type": "code",
   "execution_count": 203,
   "id": "dcbf6f2b",
   "metadata": {},
   "outputs": [],
   "source": [
    "v1,v2 = (Matrix.vstack(v1, Matrix.zeros(2,1)), Matrix.vstack(v2, Matrix.zeros(2,1)))\n",
    "v3,v4 = (Matrix([0,0,1,0]), Matrix([0,0,0,1]))\n",
    "v3 = v3 - inner(v3,v1)*v1 - inner(v3,v2)*v2\n",
    "v3 = v3 / v3.norm()\n",
    "v4 = v4 - inner(v4,v1)*v1 - inner(v4,v2)*v2 - inner(v4,v3)*v3\n",
    "v4 = v4 / v4.norm()\n"
   ]
  },
  {
   "cell_type": "markdown",
   "id": "f6d757c8",
   "metadata": {},
   "source": [
    "$Q$ og $R$ kan nu defineres"
   ]
  },
  {
   "cell_type": "code",
   "execution_count": 219,
   "id": "b7d396b3",
   "metadata": {},
   "outputs": [
    {
     "data": {
      "text/latex": [
       "$\\displaystyle \\left( \\left[\\begin{matrix}3 & -1 & 1 & 3\\\\4 & 7 & 2 & 4\\end{matrix}\\right], \\  \\left[\\begin{matrix}\\frac{3}{5} & - \\frac{4}{5} & 0 & 0\\\\\\frac{4}{5} & \\frac{3}{5} & 0 & 0\\end{matrix}\\right], \\  \\left[\\begin{matrix}5 & 5 & \\frac{11}{5} & 5\\\\0 & 5 & \\frac{2}{5} & 0\\\\0 & 0 & 0 & 0\\\\0 & 0 & 0 & 0\\end{matrix}\\right]\\right)$"
      ],
      "text/plain": [
       "⎛                                  ⎡5  5  11/5  5⎤⎞\n",
       "⎜                                  ⎢             ⎥⎟\n",
       "⎜⎡3  -1  1  3⎤  ⎡3/5  -4/5  0  0⎤  ⎢0  5  2/5   0⎥⎟\n",
       "⎜⎢           ⎥, ⎢               ⎥, ⎢             ⎥⎟\n",
       "⎜⎣4  7   2  4⎦  ⎣4/5  3/5   0  0⎦  ⎢0  0   0    0⎥⎟\n",
       "⎜                                  ⎢             ⎥⎟\n",
       "⎝                                  ⎣0  0   0    0⎦⎠"
      ]
     },
     "metadata": {},
     "output_type": "display_data"
    }
   ],
   "source": [
    "Q = Matrix.hstack(v1,v2, Matrix.zeros(2,2))\n",
    "R = Q.H*A\n",
    "display((Q*R, Q,R))"
   ]
  },
  {
   "cell_type": "markdown",
   "id": "dde9131d",
   "metadata": {},
   "source": [
    "Herved er der fundet en $QR$-faktorisering af A"
   ]
  },
  {
   "cell_type": "markdown",
   "id": "cf6035bf",
   "metadata": {},
   "source": [
    "Opg 2)\n",
    "\n",
    "(i) Fra definitionen af en normal operator/matrix gælder følgende: $A^*A = AA^*$. Da $-A = (-1)A$, og da vi blot kan trække skalaren ud får vi, \n",
    "\n",
    "$$\n",
    "-AA = A(-A) = AA^* = A^*A.\n",
    "$$\n",
    "\n",
    "A er derfor normal"
   ]
  },
  {
   "cell_type": "markdown",
   "id": "f52850f6",
   "metadata": {},
   "source": [
    "(ii)\n",
    "\n",
    "Vi kan se A som en operator, $A:V\\to V$. Da A er normal vil dens egenvektorere være ortogonale på hinanden, og derfor spanne hele $V$. Altså vil de udgørre en orthonormal base for $V$ (Theorem 2.4., kapitel 6)"
   ]
  },
  {
   "cell_type": "markdown",
   "id": "5fbae7eb",
   "metadata": {},
   "source": [
    "(iii)\n",
    "\n"
   ]
  },
  {
   "cell_type": "markdown",
   "id": "38681755",
   "metadata": {},
   "source": [
    "Lad x være en eigenvektor til A, så er\n",
    "$$\n",
    "\\|Ax\\| = \\sqrt{\\langle Ax,Ax\\rangle} = \\sqrt{-\\langle A^2x,x\\rangle}\n",
    "$$\n",
    "...\n"
   ]
  },
  {
   "cell_type": "markdown",
   "id": "1fc8a326",
   "metadata": {},
   "source": [
    "Opg 3)\n",
    "\n",
    "(i)\n",
    "\n",
    "Matricen defineres, og $A^*A$ udregnes:"
   ]
  },
  {
   "cell_type": "code",
   "execution_count": 121,
   "id": "55451e8e",
   "metadata": {},
   "outputs": [
    {
     "data": {
      "text/latex": [
       "$\\displaystyle \\left[\\begin{matrix}9 & 0 & 3\\\\0 & 9 & 3\\\\3 & 3 & 2\\end{matrix}\\right]$"
      ],
      "text/plain": [
       "⎡9  0  3⎤\n",
       "⎢       ⎥\n",
       "⎢0  9  3⎥\n",
       "⎢       ⎥\n",
       "⎣3  3  2⎦"
      ]
     },
     "metadata": {},
     "output_type": "display_data"
    }
   ],
   "source": [
    "A = Matrix(3,3,[1,2,1,2,1,1,2,-2,0])\n",
    "A_starA = A.H*A\n",
    "display(A_starA)"
   ]
  },
  {
   "cell_type": "markdown",
   "id": "aa7f88c5",
   "metadata": {},
   "source": [
    "(ii)\n",
    "\n",
    "Det karakteristiske polynomie opstilles for at finde egenværdierne"
   ]
  },
  {
   "cell_type": "code",
   "execution_count": 69,
   "id": "8c37684f",
   "metadata": {},
   "outputs": [
    {
     "data": {
      "image/png": "[encoded data removed]",
      "text/latex": [
       "$\\displaystyle - \\lambda \\left(\\lambda - 11\\right) \\left(\\lambda - 9\\right)$"
      ],
      "text/plain": [
       "-λ⋅(λ - 11)⋅(λ - 9)"
      ]
     },
     "metadata": {},
     "output_type": "display_data"
    },
    {
     "name": "stdout",
     "output_type": "stream",
     "text": [
      "0 0 0\n"
     ]
    }
   ],
   "source": [
    "l = symbols(\"lambda\")\n",
    "p = det(A_starA - l*eye(3))\n",
    "p = p.factor()\n",
    "display(p)\n",
    "print(det(A_starA - 0*eye(3)), det(A_starA - 11*eye(3)), det(A_starA - 9*eye(3)))"
   ]
  },
  {
   "cell_type": "markdown",
   "id": "7ed7f4f8",
   "metadata": {},
   "source": [
    "Egenværdierne er alså $0, 11$ og $9$\n",
    "\n",
    "(iii)\n",
    "\n",
    "$\\Sigma$ er givet ved kvadradrødderne af egenværdierne -- alså $0,\\sqrt{11}$ og $3$. Da vi gerne vil have $tilde{\\Sigma}$, udelader vi derfor $0$'et."
   ]
  },
  {
   "cell_type": "code",
   "execution_count": 134,
   "id": "22889682",
   "metadata": {},
   "outputs": [
    {
     "data": {
      "text/latex": [
       "$\\displaystyle \\left[\\begin{matrix}\\sqrt{11} & 0\\\\0 & 3\\end{matrix}\\right]$"
      ],
      "text/plain": [
       "⎡√11  0⎤\n",
       "⎢      ⎥\n",
       "⎣ 0   3⎦"
      ]
     },
     "metadata": {},
     "output_type": "display_data"
    }
   ],
   "source": [
    "Sigma = Matrix.diag(sqrt(11),3)\n",
    "display(Sigma)"
   ]
  },
  {
   "cell_type": "markdown",
   "id": "015c829f",
   "metadata": {},
   "source": [
    "De tilhørende egenvektorere til $A^*A$ findes nu"
   ]
  },
  {
   "cell_type": "code",
   "execution_count": 135,
   "id": "b3de0b4d",
   "metadata": {},
   "outputs": [
    {
     "data": {
      "text/latex": [
       "$\\displaystyle \\left[ \\left( 0, \\  1, \\  \\left[ \\left[\\begin{matrix}- \\frac{1}{3}\\\\- \\frac{1}{3}\\\\1\\end{matrix}\\right]\\right]\\right), \\  \\left( 9, \\  1, \\  \\left[ \\left[\\begin{matrix}-1\\\\1\\\\0\\end{matrix}\\right]\\right]\\right), \\  \\left( 11, \\  1, \\  \\left[ \\left[\\begin{matrix}\\frac{3}{2}\\\\\\frac{3}{2}\\\\1\\end{matrix}\\right]\\right]\\right)\\right]$"
      ],
      "text/plain": [
       "⎡⎛      ⎡⎡-1/3⎤⎤⎞  ⎛      ⎡⎡-1⎤⎤⎞  ⎛       ⎡⎡3/2⎤⎤⎞⎤\n",
       "⎢⎜      ⎢⎢    ⎥⎥⎟  ⎜      ⎢⎢  ⎥⎥⎟  ⎜       ⎢⎢   ⎥⎥⎟⎥\n",
       "⎢⎜0, 1, ⎢⎢-1/3⎥⎥⎟, ⎜9, 1, ⎢⎢1 ⎥⎥⎟, ⎜11, 1, ⎢⎢3/2⎥⎥⎟⎥\n",
       "⎢⎜      ⎢⎢    ⎥⎥⎟  ⎜      ⎢⎢  ⎥⎥⎟  ⎜       ⎢⎢   ⎥⎥⎟⎥\n",
       "⎣⎝      ⎣⎣ 1  ⎦⎦⎠  ⎝      ⎣⎣0 ⎦⎦⎠  ⎝       ⎣⎣ 1 ⎦⎦⎠⎦"
      ]
     },
     "execution_count": 135,
     "metadata": {},
     "output_type": "execute_result"
    }
   ],
   "source": [
    "A_starA.eigenvects()"
   ]
  },
  {
   "cell_type": "code",
   "execution_count": 136,
   "id": "7e11d3e6",
   "metadata": {},
   "outputs": [
    {
     "data": {
      "text/latex": [
       "$\\displaystyle \\left[\\begin{matrix}1 & 0 & - \\frac{3}{2}\\\\0 & 1 & - \\frac{3}{2}\\\\0 & 0 & 0\\end{matrix}\\right]$"
      ],
      "text/plain": [
       "⎡1  0  -3/2⎤\n",
       "⎢          ⎥\n",
       "⎢0  1  -3/2⎥\n",
       "⎢          ⎥\n",
       "⎣0  0   0  ⎦"
      ]
     },
     "metadata": {},
     "output_type": "display_data"
    },
    {
     "data": {
      "text/latex": [
       "$\\displaystyle \\left[\\begin{matrix}1 & 1 & 0\\\\0 & 0 & 1\\\\0 & 0 & 0\\end{matrix}\\right]$"
      ],
      "text/plain": [
       "⎡1  1  0⎤\n",
       "⎢       ⎥\n",
       "⎢0  0  1⎥\n",
       "⎢       ⎥\n",
       "⎣0  0  0⎦"
      ]
     },
     "metadata": {},
     "output_type": "display_data"
    }
   ],
   "source": [
    "display((A_starA - 11 * Matrix.eye(3)).rref()[0], (A_starA - 9 * Matrix.eye(3)).rref()[0])"
   ]
  },
  {
   "cell_type": "markdown",
   "id": "ba8fa251",
   "metadata": {},
   "source": [
    "Vi kan altså skrive egenvektorene (normaliserede) som "
   ]
  },
  {
   "cell_type": "code",
   "execution_count": 137,
   "id": "f964cad9",
   "metadata": {},
   "outputs": [
    {
     "data": {
      "text/latex": [
       "$\\displaystyle \\left[\\begin{matrix}\\frac{3 \\sqrt{22}}{22} & - \\frac{\\sqrt{2}}{2}\\\\\\frac{3 \\sqrt{22}}{22} & \\frac{\\sqrt{2}}{2}\\\\\\frac{\\sqrt{22}}{11} & 0\\end{matrix}\\right]$"
      ],
      "text/plain": [
       "⎡3⋅√22  -√2 ⎤\n",
       "⎢─────  ────⎥\n",
       "⎢  22    2  ⎥\n",
       "⎢           ⎥\n",
       "⎢3⋅√22   √2 ⎥\n",
       "⎢─────   ── ⎥\n",
       "⎢  22    2  ⎥\n",
       "⎢           ⎥\n",
       "⎢ √22       ⎥\n",
       "⎢ ───    0  ⎥\n",
       "⎣  11       ⎦"
      ]
     },
     "metadata": {},
     "output_type": "display_data"
    },
    {
     "data": {
      "text/latex": [
       "$\\displaystyle \\left[\\begin{matrix}\\frac{\\sqrt{2}}{2} & \\frac{\\sqrt{2}}{6}\\\\\\frac{\\sqrt{2}}{2} & - \\frac{\\sqrt{2}}{6}\\\\0 & - \\frac{2 \\sqrt{2}}{3}\\end{matrix}\\right]$"
      ],
      "text/plain": [
       "⎡√2    √2  ⎤\n",
       "⎢──    ──  ⎥\n",
       "⎢2     6   ⎥\n",
       "⎢          ⎥\n",
       "⎢√2   -√2  ⎥\n",
       "⎢──   ──── ⎥\n",
       "⎢2     6   ⎥\n",
       "⎢          ⎥\n",
       "⎢    -2⋅√2 ⎥\n",
       "⎢0   ──────⎥\n",
       "⎣      3   ⎦"
      ]
     },
     "metadata": {},
     "output_type": "display_data"
    }
   ],
   "source": [
    "v1 = Matrix(3,1,[Rational(3,2),Rational(3,2),1]) / Matrix(3,1,[Rational(3,2),Rational(3,2),1]).norm()\n",
    "v2 = Matrix(3,1,[-1,1,0]) / Matrix(3,1,[-1,1,0]).norm()\n",
    "w1 = sqrt(11)*Rational(1,11) * A * v1\n",
    "w2 = Rational(1,3) * A * v2\n",
    "V = Matrix.hstack(v1,v2)\n",
    "W = Matrix.hstack(w1,w2)\n",
    "display(V,W)"
   ]
  },
  {
   "cell_type": "markdown",
   "id": "8a966359",
   "metadata": {},
   "source": [
    "Det tjekkes om SVD'en er korrekt udført:"
   ]
  },
  {
   "cell_type": "code",
   "execution_count": 142,
   "id": "545c4d2e",
   "metadata": {},
   "outputs": [
    {
     "data": {
      "text/latex": [
       "$\\displaystyle \\left( \\left[\\begin{matrix}\\frac{\\sqrt{2}}{2} & \\frac{\\sqrt{2}}{6}\\\\\\frac{\\sqrt{2}}{2} & - \\frac{\\sqrt{2}}{6}\\\\0 & - \\frac{2 \\sqrt{2}}{3}\\end{matrix}\\right], \\  \\left[\\begin{matrix}\\sqrt{11} & 0\\\\0 & 3\\end{matrix}\\right], \\  \\left[\\begin{matrix}\\frac{3 \\sqrt{22}}{22} & \\frac{3 \\sqrt{22}}{22} & \\frac{\\sqrt{22}}{11}\\\\- \\frac{\\sqrt{2}}{2} & \\frac{\\sqrt{2}}{2} & 0\\end{matrix}\\right], \\  \\left[\\begin{matrix}1 & 2 & 1\\\\2 & 1 & 1\\\\2 & -2 & 0\\end{matrix}\\right]\\right)$"
      ],
      "text/plain": [
       "⎛⎡√2    √2  ⎤                                           ⎞\n",
       "⎜⎢──    ──  ⎥                                           ⎟\n",
       "⎜⎢2     6   ⎥            ⎡3⋅√22  3⋅√22  √22⎤            ⎟\n",
       "⎜⎢          ⎥            ⎢─────  ─────  ───⎥  ⎡1  2   1⎤⎟\n",
       "⎜⎢√2   -√2  ⎥  ⎡√11  0⎤  ⎢  22     22    11⎥  ⎢        ⎥⎟\n",
       "⎜⎢──   ──── ⎥, ⎢      ⎥, ⎢                 ⎥, ⎢2  1   1⎥⎟\n",
       "⎜⎢2     6   ⎥  ⎣ 0   3⎦  ⎢-√2     √2       ⎥  ⎢        ⎥⎟\n",
       "⎜⎢          ⎥            ⎢────    ──     0 ⎥  ⎣2  -2  0⎦⎟\n",
       "⎜⎢    -2⋅√2 ⎥            ⎣ 2      2        ⎦            ⎟\n",
       "⎜⎢0   ──────⎥                                           ⎟\n",
       "⎝⎣      3   ⎦                                           ⎠"
      ]
     },
     "execution_count": 142,
     "metadata": {},
     "output_type": "execute_result"
    }
   ],
   "source": [
    "W,Sigma,V.H, W*Sigma*V.H"
   ]
  },
  {
   "cell_type": "markdown",
   "id": "66239d54",
   "metadata": {},
   "source": [
    "Herved en er den reducerede SVD til A fundet som\n",
    "\n",
    "\n",
    "$\\displaystyle A = \\left[\\begin{matrix}1 & 2 & 1\\\\2 & 1 & 1\\\\2 & -2 & 0\\end{matrix}\\right] = \\left[\\begin{matrix}\\frac{\\sqrt{2}}{2} & \\frac{\\sqrt{2}}{6}\\\\\\frac{\\sqrt{2}}{2} & - \\frac{\\sqrt{2}}{6}\\\\0 & - \\frac{2 \\sqrt{2}}{3}\\end{matrix}\\right]  \\left[\\begin{matrix}\\sqrt{11} & 0\\\\0 & 3\\end{matrix}\\right]  \\left[\\begin{matrix}\\frac{3 \\sqrt{22}}{22} & \\frac{3 \\sqrt{22}}{22} & \\frac{\\sqrt{22}}{11}\\\\- \\frac{\\sqrt{2}}{2} & \\frac{\\sqrt{2}}{2} & 0\\end{matrix}\\right]$\n"
   ]
  },
  {
   "cell_type": "markdown",
   "id": "1e99e8b1",
   "metadata": {},
   "source": [
    "Opg 4)\n",
    "\n",
    "(i) \n",
    "\n",
    "Da vi har en enkelt blok med egenværdi $\\lambda$, må denne have algebraisk multiplicitet $n$. Netop da vi kun har én blok må det gælde,\n",
    "\n",
    "$$\n",
    "dim(ker(A - \\lambda I)) = 1\n",
    "$$\n",
    "\n",
    "og\n",
    "\n",
    "$$\n",
    "dim(ker(A - \\lambda I)^{k + 1}) = dim(ker(A - \\lambda I)^{k} + 1)\n",
    "$$\n",
    "op til $k+1 = n$. Det svarer alstså til et prik-diagram med udelukkende enkelte prikker. Alternativt angiver $dim(ker(A - \\lambda I)) = 1$ også, at der kun skal være én blok, og de efterfølgende udregninger er her overflødige.\n",
    "\n",
    "Hvis $det(A - 0I) = 0$, må det derfor gælde, at $det(A^2 - 0I) = 0$, da $det(A^2) = det(A)det(A)$. Jordan formen er derfor den samme hvis$\\lambda = 0$.\n",
    "\n",
    "(ii)\n",
    "\n",
    "Vi ved at egenrummet -- $E$ -- er A-invariant. Altså er $A^2E$ et underrum af $AE$. Vi ved altså fra argumentet i (i), at dimensionen af\n",
    "$$\n",
    "dim(ker(A^2 - \\lambda I)) \\leq dim(ker(A - \\lambda I)) = 1\n",
    "$$\n",
    "Rekursivt, gælder det altså, på samme måde, at $dim(ker(A - \\lambda I)^{k}) = k$ for k op til n.\n",
    "\n",
    "Det følger derfer, at Jordan formen her også er uændret."
   ]
  }
 ],
 "metadata": {
  "kernelspec": {
   "display_name": "IntelligentSystems",
   "language": "python",
   "name": "python3"
  },
  "language_info": {
   "codemirror_mode": {
    "name": "ipython",
    "version": 3
   },
   "file_extension": ".py",
   "mimetype": "text/x-python",
   "name": "python",
   "nbconvert_exporter": "python",
   "pygments_lexer": "ipython3",
   "version": "3.11.9"
  }
 },
 "nbformat": 4,
 "nbformat_minor": 5
}
