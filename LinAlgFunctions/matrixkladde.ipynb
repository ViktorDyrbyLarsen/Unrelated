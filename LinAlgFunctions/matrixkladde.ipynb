{
 "cells": [
  {
   "cell_type": "markdown",
   "id": "071523fe",
   "metadata": {
    "vscode": {
     "languageId": "latex"
    }
   },
   "source": [
    "Let $T:V \\to W$ be a linear operator acting on a finite vector space and let $v_1, \\dots, v_k$ and $w_1, \\dots, w_k$ be bases in $V$ and $W$ respectively. \n",
    "To change our basis, we want to determine T such that for all $v\\in V$ and $w \\in W$ the following equation holds,\n",
    "\n",
    "\\begin{align}\n",
    "    Tv &= w  \n",
    "\\end{align}\n",
    "Using our basis for $V$ and $W$, we can rewrite it as\n",
    "\\begin{align}\n",
    "    Tv &= T(\\alpha_1 v_1 + \\dots + \\alpha_k v_k)\n",
    "    \\\\&=\n",
    "    \\sum_{\\ell = 1}^k \\alpha_\\ell T v_\\ell\n",
    "    \\\\&=\n",
    "    \\sum_{\\ell = 1}^k \\beta_\\ell w_\\ell\n",
    "\\end{align}\n",
    "In different notation, we know that $T(v_k) = w_k$. By representing $T$ in matrix, we get a k-by-k matrix. Likewise, we can see the bases as matrices with the basis vectors as columns, i.e.\n",
    "\\begin{bmatrix}\n",
    "\\vert & \\vert &        & \\vert \\\\\n",
    "\\mathbf{v}_1 & \\mathbf{v}_2 & \\cdots & \\mathbf{v}_k \\\\\n",
    "\\vert & \\vert &        & \\vert\n",
    "\\end{bmatrix}\n",
    "For a lack of better notation, these matrices are called $A$ and $B$. As columns are made from bases vectors, they are linearly independent, thus $A$ and $B$ have full rank is is therefore invertable.\n",
    "\n",
    "We now have the equation\n",
    "\\begin{align}\n",
    "    TA = B \\implies T = BA^-1\n",
    "\\begin{align}"
   ]
  },
  {
   "cell_type": "markdown",
   "id": "01a93dec",
   "metadata": {},
   "source": [
    "I'm having a bit of troubles wrapping my head completely around change of basis and operators in linear algebra. I'm using linear algebra done right, but have also read most of linear algebra done wrong. I'm trying to figure it out rigorously for myself. I would like you to verify my reasoning and point out where my understanding fail.\n",
    "\n",
    "Let $T:V \\to W$ be a linear operator acting on a finite vector space and let $v_1, \\dots, v_k$ and $w_1, \\dots, w_k$ be bases in $V$ and $W$ respectively. \n",
    "To change our basis, we want to determine T such that for all $v\\in V$ and $w \\in W$ the following equation holds,\n",
    "\n",
    "\\begin{align}\n",
    "    Tv &= w  \n",
    "\\end{align}\n",
    "Using our basis for $V$ and $W$, we can rewrite it as\n",
    "\\begin{align}\n",
    "    Tv &= T(\\alpha_1 v_1 + \\dots + \\alpha_k v_k)\n",
    "    \\\\&=\n",
    "    \\sum_{\\ell = 1}^k \\alpha_\\ell T v_\\ell\n",
    "    \\\\&=\n",
    "    \\sum_{\\ell = 1}^k \\beta_\\ell w_\\ell\n",
    "\\end{align}\n",
    "In different notation, we know that $T(v_k) = w_k$. By representing $T$ in matrix, we get a k-by-k matrix. Likewise, we can see the bases as matrices with the basis vectors as columns, i.e.\n",
    "\\begin{bmatrix}\n",
    "\\vert & \\vert &        & \\vert \\\\\n",
    "\\mathbf{v}_1 & \\mathbf{v}_2 & \\cdots & \\mathbf{v}_k \\\\\n",
    "\\vert & \\vert &        & \\vert\n",
    "\\end{bmatrix}\n",
    "For a lack of better notation, these matrices are called $A$ and $B$. As columns are made from bases vectors, they are linearly independent, thus $A$ and $B$ have full rank is is therefore invertable.\n",
    "\n",
    "We now have the equation\n",
    "\\begin{align}\n",
    "    TA = B \\implies T = BA^-1\n",
    "\\end{align}"
   ]
  },
  {
   "cell_type": "code",
   "execution_count": 2,
   "id": "5c6acf23",
   "metadata": {},
   "outputs": [],
   "source": [
    "from sympy import *"
   ]
  },
  {
   "cell_type": "code",
   "execution_count": 12,
   "id": "5f302c5a",
   "metadata": {},
   "outputs": [
    {
     "data": {
      "text/plain": [
       "(Matrix([\n",
       " [1, 0, 0, 0, 0],\n",
       " [0, 1, 0, 0, 0],\n",
       " [0, 0, 1, 0, 0],\n",
       " [0, 0, 0, 1, 0],\n",
       " [0, 0, 0, 0, 1]]),\n",
       " (0, 1, 2, 3, 4))"
      ]
     },
     "execution_count": 12,
     "metadata": {},
     "output_type": "execute_result"
    }
   ],
   "source": [
    "\n",
    "dim = 5\n",
    "matrix = Matrix(dim, dim, lambda r, c: 1 if r <= c else 0)\n",
    "matrix.rref()"
   ]
  }
 ],
 "metadata": {
  "kernelspec": {
   "display_name": "general",
   "language": "python",
   "name": "python3"
  },
  "language_info": {
   "codemirror_mode": {
    "name": "ipython",
    "version": 3
   },
   "file_extension": ".py",
   "mimetype": "text/x-python",
   "name": "python",
   "nbconvert_exporter": "python",
   "pygments_lexer": "ipython3",
   "version": "3.11.13"
  }
 },
 "nbformat": 4,
 "nbformat_minor": 5
}
