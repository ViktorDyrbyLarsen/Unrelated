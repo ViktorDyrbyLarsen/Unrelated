{
 "cells": [
  {
   "cell_type": "code",
   "execution_count": 1,
   "id": "2dec5049",
   "metadata": {},
   "outputs": [],
   "source": [
    "from sympy import *\n",
    "init_printing()"
   ]
  },
  {
   "cell_type": "markdown",
   "id": "bab02781",
   "metadata": {},
   "source": [
    "**Inner product**"
   ]
  },
  {
   "cell_type": "code",
   "execution_count": 6,
   "id": "b1f3285e",
   "metadata": {},
   "outputs": [],
   "source": [
    "t = symbols('t')\n",
    "def inner(f,g, variable = symbols('x')):\n",
    "    # raise NotImplementedError(\"Inner product not implemented\")\n",
    "    return integrate(f*conjugate(g),(variable,-1,1))"
   ]
  },
  {
   "cell_type": "markdown",
   "id": "a3894c60",
   "metadata": {},
   "source": [
    "**Gram-Schmidt Algorithm**"
   ]
  },
  {
   "cell_type": "code",
   "execution_count": null,
   "id": "36c4c3d7",
   "metadata": {},
   "outputs": [],
   "source": [
    "def GramSchmidtAlgorithm(v: list, inner: callable, normal = False):\n",
    "    E = [] #The ortahogonal basis vectors\n",
    "    for n in range(len(v)):\n",
    "        if n == 0:\n",
    "            E.append(v[n])\n",
    "        else:\n",
    "            E.append(v[n] - sum([inner(v[n],E[k])/inner(E[k],E[k])*E[k] for k in range(len(E))]))\n",
    "        if normal:\n",
    "            E[n] = E[n]/sqrt(inner(E[n],E[n]))\n",
    "    return Matrix(E)"
   ]
  },
  {
   "cell_type": "markdown",
   "id": "60d00204",
   "metadata": {},
   "source": [
    "**Orthonormal check**"
   ]
  },
  {
   "cell_type": "code",
   "execution_count": 19,
   "id": "732be2f8",
   "metadata": {},
   "outputs": [],
   "source": [
    "def orthonormal_check(v: list, inner: callable):\n",
    "    for i in range(len(v)):\n",
    "        for j in range(len(v)):\n",
    "            if i != j:\n",
    "                assert inner(v[i],v[j]) == 0\n",
    "            else:\n",
    "                assert inner(v[i],v[j]) == 1\n",
    "    print(\"The basis is orthonormal\")\n",
    "# for O in [O_2, O_3]:\n",
    "#     for i in range(len(O)):\n",
    "#         for j in range(len(O)):\n",
    "#             if i != j:\n",
    "#                 assert inner(O[i],O[j]) == 0\n",
    "#             else:\n",
    "#                 assert inner(O[i],O[j]) == 1\n",
    "# print(\"The basis is orthonormal\")"
   ]
  },
  {
   "cell_type": "markdown",
   "id": "8670f2fd",
   "metadata": {},
   "source": [
    "**Example of polynomial representation**"
   ]
  },
  {
   "attachments": {
    "image.png": {
     "image/png": "[encoded data removed]"
    }
   },
   "cell_type": "markdown",
   "id": "cdfb6e92",
   "metadata": {},
   "source": [
    "![image.png](attachment:image.png)"
   ]
  },
  {
   "cell_type": "code",
   "execution_count": 20,
   "id": "22619210",
   "metadata": {},
   "outputs": [
    {
     "name": "stdout",
     "output_type": "stream",
     "text": [
      "Simple solve\n"
     ]
    },
    {
     "data": {
      "image/png": "[encoded data removed]",
      "text/latex": [
       "$\\displaystyle \\left\\{ a_{0} : 0, \\  a_{1} : 0, \\  a_{2} : 0, \\  a_{3} : 0\\right\\}$"
      ],
      "text/plain": [
       "{a₀: 0, a₁: 0, a₂: 0, a₃: 0}"
      ]
     },
     "metadata": {},
     "output_type": "display_data"
    },
    {
     "name": "stdout",
     "output_type": "stream",
     "text": [
      "Rewriting the polynomials\n"
     ]
    },
    {
     "data": {
      "image/png": "[encoded data removed]",
      "text/latex": [
       "$\\displaystyle \\left[\\begin{matrix}1 & 0 & 0 & 0\\\\0 & \\sqrt{3} & 0 & 0\\\\0 & 0 & \\frac{3 \\sqrt{5}}{2} & - \\frac{3 \\sqrt{7}}{2}\\\\0 & 0 & - \\frac{\\sqrt{5}}{2} & \\frac{5 \\sqrt{7}}{2}\\end{matrix}\\right]$"
      ],
      "text/plain": [
       "⎡1  0    0      0   ⎤\n",
       "⎢                   ⎥\n",
       "⎢0  √3   0      0   ⎥\n",
       "⎢                   ⎥\n",
       "⎢       3⋅√5  -3⋅√7 ⎥\n",
       "⎢0  0   ────  ──────⎥\n",
       "⎢        2      2   ⎥\n",
       "⎢                   ⎥\n",
       "⎢       -√5    5⋅√7 ⎥\n",
       "⎢0  0   ────   ──── ⎥\n",
       "⎣        2      2   ⎦"
      ]
     },
     "metadata": {},
     "output_type": "display_data"
    },
    {
     "data": {
      "image/png": "[encoded data removed]",
      "text/latex": [
       "$\\displaystyle \\left( \\left[\\begin{matrix}1 & 0 & 0 & 0\\\\0 & 1 & 0 & 0\\\\0 & 0 & 1 & 0\\\\0 & 0 & 0 & 1\\end{matrix}\\right], \\  \\left( 0, \\  1, \\  2, \\  3\\right)\\right)$"
      ],
      "text/plain": [
       "⎛⎡1  0  0  0⎤              ⎞\n",
       "⎜⎢          ⎥              ⎟\n",
       "⎜⎢0  1  0  0⎥              ⎟\n",
       "⎜⎢          ⎥, (0, 1, 2, 3)⎟\n",
       "⎜⎢0  0  1  0⎥              ⎟\n",
       "⎜⎢          ⎥              ⎟\n",
       "⎝⎣0  0  0  1⎦              ⎠"
      ]
     },
     "metadata": {},
     "output_type": "display_data"
    },
    {
     "ename": "AssertionError",
     "evalue": "",
     "output_type": "error",
     "traceback": [
      "\u001b[1;31m---------------------------------------------------------------------------\u001b[0m",
      "\u001b[1;31mAssertionError\u001b[0m                            Traceback (most recent call last)",
      "Cell \u001b[1;32mIn[20], line 17\u001b[0m\n\u001b[0;32m     15\u001b[0m \u001b[38;5;28;01mdef\u001b[39;00m \u001b[38;5;21minner\u001b[39m(f,g, variable \u001b[38;5;241m=\u001b[39m symbols(\u001b[38;5;124m'\u001b[39m\u001b[38;5;124mx\u001b[39m\u001b[38;5;124m'\u001b[39m)):\n\u001b[0;32m     16\u001b[0m     \u001b[38;5;28;01mreturn\u001b[39;00m \u001b[38;5;241m1\u001b[39m\u001b[38;5;241m/\u001b[39m\u001b[38;5;241m2\u001b[39m \u001b[38;5;241m*\u001b[39m integrate(f\u001b[38;5;241m*\u001b[39mconjugate(g),(variable,\u001b[38;5;241m-\u001b[39m\u001b[38;5;241m1\u001b[39m,\u001b[38;5;241m1\u001b[39m))\n\u001b[1;32m---> 17\u001b[0m \u001b[43morthonormal_check\u001b[49m\u001b[43m(\u001b[49m\u001b[43mv\u001b[49m\u001b[43m,\u001b[49m\u001b[43m \u001b[49m\u001b[43minner\u001b[49m\u001b[43m)\u001b[49m\n",
      "Cell \u001b[1;32mIn[19], line 7\u001b[0m, in \u001b[0;36morthonormal_check\u001b[1;34m(v, inner)\u001b[0m\n\u001b[0;32m      5\u001b[0m             \u001b[38;5;28;01massert\u001b[39;00m inner(v[i],v[j]) \u001b[38;5;241m==\u001b[39m \u001b[38;5;241m0\u001b[39m\n\u001b[0;32m      6\u001b[0m         \u001b[38;5;28;01melse\u001b[39;00m:\n\u001b[1;32m----> 7\u001b[0m             \u001b[38;5;28;01massert\u001b[39;00m inner(v[i],v[j]) \u001b[38;5;241m==\u001b[39m \u001b[38;5;241m1\u001b[39m\n\u001b[0;32m      8\u001b[0m \u001b[38;5;28mprint\u001b[39m(\u001b[38;5;124m\"\u001b[39m\u001b[38;5;124mThe basis is orthonormal\u001b[39m\u001b[38;5;124m\"\u001b[39m)\n",
      "\u001b[1;31mAssertionError\u001b[0m: "
     ]
    }
   ],
   "source": [
    "a0, a1, a2, a3 = symbols('a0 a1 a2 a3')\n",
    "p0 = 1\n",
    "p1 = sqrt(3)*t\n",
    "p2 = sqrt(5) / 2 * (3*t**2 - 1)\n",
    "p3 = sqrt(7) / 2 * (5*t**3 - 3*t)\n",
    "print(\"Simple solve\")\n",
    "display(solve(a0*p0 + a1*p1 + a2*p2 + a3*p3, [a0, a1, a2, a3]))\n",
    "print(\"Rewriting the polynomials\")\n",
    "v0 = Matrix([1, 0, 0, 0])\n",
    "v1 = Matrix([0, sqrt(3), 0, 0])\n",
    "v2 = Matrix([0, 0, sqrt(5)/2*3, -sqrt(5)/2])\n",
    "v3 = Matrix([0, 0, -sqrt(7)/2*3, sqrt(7)/2*5])\n",
    "v = Matrix.hstack(v0, v1, v2, v3)\n",
    "display(v,v.rref())\n",
    "def inner(f,g, variable = symbols('x')):\n",
    "    return 1/2 * integrate(f*conjugate(g),(variable,-1,1))\n",
    "orthonormal_check(v, inner)"
   ]
  },
  {
   "cell_type": "code",
   "execution_count": 21,
   "id": "bb18a1b9",
   "metadata": {},
   "outputs": [
    {
     "data": {
      "image/png": "[encoded data removed]",
      "text/latex": [
       "$\\displaystyle 1.0 \\sqrt{3} \\overline{t}$"
      ],
      "text/plain": [
       "       _\n",
       "1.0⋅√3⋅t"
      ]
     },
     "execution_count": 21,
     "metadata": {},
     "output_type": "execute_result"
    }
   ],
   "source": [
    "inner(p0,p1)"
   ]
  }
 ],
 "metadata": {
  "kernelspec": {
   "display_name": "Python 3",
   "language": "python",
   "name": "python3"
  },
  "language_info": {
   "codemirror_mode": {
    "name": "ipython",
    "version": 3
   },
   "file_extension": ".py",
   "mimetype": "text/x-python",
   "name": "python",
   "nbconvert_exporter": "python",
   "pygments_lexer": "ipython3",
   "version": "3.10.11"
  }
 },
 "nbformat": 4,
 "nbformat_minor": 5
}
