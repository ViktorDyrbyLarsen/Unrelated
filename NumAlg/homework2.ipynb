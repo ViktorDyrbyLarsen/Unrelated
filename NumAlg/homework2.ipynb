{
 "cells": [
  {
   "cell_type": "markdown",
   "id": "288919f3",
   "metadata": {},
   "source": [
    "# Homework 2\n",
    "study number: s234857 "
   ]
  },
  {
   "cell_type": "code",
   "execution_count": 17,
   "id": "07ac6589",
   "metadata": {},
   "outputs": [],
   "source": [
    "import numpy as np"
   ]
  },
  {
   "cell_type": "markdown",
   "id": "b03120d9",
   "metadata": {},
   "source": [
    "## Multiple choice\n",
    "\n",
    "A) 3,\n",
    "\n",
    "B) 3,\n",
    "\n",
    "C) 2,\n",
    "\n",
    "D) 2"
   ]
  },
  {
   "cell_type": "markdown",
   "id": "9abff66b",
   "metadata": {},
   "source": [
    "### 3.1)\n",
    "We have that $p_0(x) = c_0 = 1$. Then, $$ \\begin{align} p_1(x_1) &= 1.105 = 1 + c_1(0.05 - 0) \\\\\\\\ \\implies c_1 &= 0.105\\cdot 20 = 2.1, \\end{align} $$ and $$ \\begin{align} p_2(x_2) = 1.221 &= 1 + 2.1(0.1 - 0) + c_2(0.1 - 0)(0.1 - 0.05) \\\\\\\\ &= 1.21 + 0.005c_2 \\\\\\\\ \\implies c_2 &= 2.2 \\end{align} $$ So the interpolating polynomial $p_2$ on Newton form of is expressed as $$ \\begin{align} p_2 &= 1 + 2.1(x) + 2.2(x)(x - 0.05) \\\\ &= 1 + 2.1((x) + 2.2(x - 0.05)) \\end{align} $$"
   ]
  },
  {
   "cell_type": "markdown",
   "id": "354c25b3",
   "metadata": {},
   "source": [
    "## 3.2)\n",
    "From the chain rule we know that $\\frac{d^n}{dx^n}e^{ax} = a^ne^{ax}$ and thus $\\frac{d^{n+1}}{dx^{n+1}}e^{ax} = a^{n+1}e^{ax}$. We therefore define $M := \\max_{x\\in [0,0.1]}2^{n+1}f(x) = 2^{n+1}\\cdot 1.221$\n",
    "\n",
    "\n",
    "\n",
    "Furthermore, the spacing between the nodes is found as $h = \\frac{0.1 - 0}{n}= \\frac{0.1}{n}$\n",
    "\n",
    "\n",
    "\n",
    "Inserting into the second interpolation theorem, we have that\n",
    "$$\n",
    "\\begin{align}\n",
    "|e^{2x} - p_n(x)| &\\leq \\frac{1.221\\cdot2^{n+1}}{4(n+1)(10n)^{n+1}} \n",
    "\\\\\\\\&= \\frac{1.221\\cdot2^{n+1}}{4(n+1)(5n)^{n+1}2^{n+1}}\n",
    "\\\\\\\\&= \\frac{0.3053}{(5n)^{n+1}(n+1)}\n",
    "\\end{align}\n",
    "$$\n",
    "Which is now found numerically for :"
   ]
  },
  {
   "cell_type": "code",
   "execution_count": 11,
   "id": "7ed59b97",
   "metadata": {},
   "outputs": [
    {
     "name": "stdout",
     "output_type": "stream",
     "text": [
      "3 1.5076543209876545e-06\n"
     ]
    }
   ],
   "source": [
    "M = lambda n: 2**(n+1) * 1.221\n",
    "h = lambda n: 0.1 / n\n",
    "bound = 1e-5\n",
    "for n in range(1, 100):\n",
    "    error = 0.3053 / ((5*n) ** (n+1) * (n+1))\n",
    "    if error < bound:\n",
    "        print(n, error)\n",
    "        break"
   ]
  },
  {
   "cell_type": "markdown",
   "id": "c5fc72b0",
   "metadata": {},
   "source": [
    "Hence $n = 3$ is the smallest n such that the error bound is less than $10^{-5}$ is "
   ]
  },
  {
   "cell_type": "markdown",
   "id": "06dd8731",
   "metadata": {},
   "source": [
    "## The composite Simpson's rule\n",
    "\n",
    "1) The MySimpson function"
   ]
  },
  {
   "cell_type": "code",
   "execution_count": 14,
   "id": "d388844e",
   "metadata": {},
   "outputs": [],
   "source": [
    "def MySimpson(f, a, b, n):\n",
    "\n",
    "    if n % 2:\n",
    "        print(\"n must be even\")\n",
    "        return float(\"nan\")\n",
    "    h = (b - a) / n\n",
    "    f_evaluations = [f(a + i * h) for i in range(n + 1)]\n",
    "    \n",
    "    for i in range(1, n, 2):\n",
    "        f_evaluations[i] *= 4\n",
    "    for i in range(2, n-1, 2):\n",
    "        f_evaluations[i] *= 2\n",
    "    \n",
    "    return h / 3 * sum(f_evaluations)"
   ]
  },
  {
   "cell_type": "markdown",
   "id": "fb382768",
   "metadata": {},
   "source": [
    "2) Examining error of the Simpson's rule\n",
    "\n",
    "Firstly the true integral is evaluated:\n",
    "$$\\int_0^\\pi \\sin(x) dx = -\\cos(\\pi)+\\cos(0) = 2 $$\n",
    "\n",
    "We now wish to observe how whether the true error term is proportional to the expected $n^{-4}$. It is expected that $\\frac{|E_n|}{n^4}$ should converge to some constant.\n",
    "\n",
    "Testing for even $n$ from $2$ to $50$:"
   ]
  },
  {
   "cell_type": "code",
   "execution_count": 35,
   "id": "086d16c8",
   "metadata": {},
   "outputs": [
    {
     "name": "stdout",
     "output_type": "stream",
     "text": [
      "convergence test\n",
      "[1.51032164 1.16729728 1.11869382 1.10252011 1.09517315 1.09121834\n",
      " 1.08884587 1.08731092 1.08626076 1.08551069 1.08495631 1.08453499\n",
      " 1.0842073  1.08394742 1.08373784 1.08356637 1.08342429 1.08330525\n",
      " 1.08320453 1.08311855 1.08304456 1.08298044 1.08292451 1.08287543]\n"
     ]
    }
   ],
   "source": [
    "def maxSimpsonError(f4_bound,a,b,n):\n",
    "    return (b - a)**5 / (180 * n**4) * f4_bound\n",
    "\n",
    "F_true = 2\n",
    "absolute_error = []\n",
    "relative_error = []\n",
    "n_max = 50\n",
    "for n in range(2, n_max, 2):\n",
    "    absolute_error.append(abs(F_true - MySimpson(np.sin, 0, np.pi, n)))\n",
    "\n",
    "\n",
    "n_values = np.arange(2, n_max, 2)\n",
    "convergence_test = np.array([\n",
    "    absolute_error[i] * n_values[i]**4 for i in range(len(absolute_error))\n",
    "])\n",
    "print(\"convergence test\")\n",
    "print(convergence_test)"
   ]
  },
  {
   "cell_type": "markdown",
   "id": "d016f506",
   "metadata": {},
   "source": [
    "It is observed that the error is proportinal to approximately $1.0829n^{-4}$ "
   ]
  },
  {
   "cell_type": "markdown",
   "id": "35cfb59f",
   "metadata": {},
   "source": []
  },
  {
   "cell_type": "markdown",
   "id": "56d2e1eb",
   "metadata": {},
   "source": [
    "4) \n",
    "From the chain rule we know that $\\frac{d^n}{dx^n}e^ax = a^ne^{ax}$, thus $f^{(4)} = 16e^{2x}$. As $e^{2x}$ is monotinically increasing, we find its maximum value on the interval at ${f^{(4)}(0.1) = 16\\cdot1.221 = 19.536}$. \n",
    "\n",
    "As the bound on the maximum error is of interest, we get that \n",
    "$$ \\begin{align}\n",
    "|E_t| &\\leq \\max_{\\xi\\in I}f^{(4)}(\\xi)\\frac{(0.1-0)^5}{180n^4}\n",
    "\\\\&= \\frac{19.536\\cdot10^{-5}}{180n^4}\n",
    "\\\\\n",
    "\\implies n^4 &\\geq \\frac{19.536\\cdot10^{-5}}{180|E_t|}.\n",
    "\\end{align} $$\n",
    "Hence for $E_t = 10^{-5}$,\n",
    "$$\n",
    "\\begin{align}\n",
    "n^4 &\\leq \\frac{19.536}{180}\n",
    "\\\\\n",
    "\\implies n &\\leq \\left(\\frac{19.536}{180}\\right)^{\\frac{1}{4}} \\end{align}\n",
    "$$"
   ]
  }
 ],
 "metadata": {
  "kernelspec": {
   "display_name": "general",
   "language": "python",
   "name": "python3"
  },
  "language_info": {
   "codemirror_mode": {
    "name": "ipython",
    "version": 3
   },
   "file_extension": ".py",
   "mimetype": "text/x-python",
   "name": "python",
   "nbconvert_exporter": "python",
   "pygments_lexer": "ipython3",
   "version": "3.11.13"
  }
 },
 "nbformat": 4,
 "nbformat_minor": 5
}
